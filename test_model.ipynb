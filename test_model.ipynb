{
 "cells": [
  {
   "cell_type": "code",
   "execution_count": 1,
   "metadata": {},
   "outputs": [],
   "source": [
    "import os\n",
    "import getpass\n",
    "if not os.environ.get(\"MISTRAL_API_KEY\"):\n",
    "    os.environ[\"MISTRAL_API_KEY\"] = getpass.getpass(\"Enter API key for Mistral AI: \")\n",
    "\n",
    "from langchain.chat_models import init_chat_model\n",
    "\n",
    "model = init_chat_model(\"open-mixtral-8x7b\", model_provider=\"mistralai\")"
   ]
  },
  {
   "cell_type": "code",
   "execution_count": 2,
   "metadata": {},
   "outputs": [
    {
     "data": {
      "text/plain": [
       "AIMessage(content=\"Hello! I'm just a computer program, so I don't have feelings, but I'm here to help you with any language-related questions you have. Is there something specific you'd like to ask? I'm here to help 24/7.\", additional_kwargs={}, response_metadata={'token_usage': {'prompt_tokens': 14, 'total_tokens': 72, 'completion_tokens': 58}, 'model': 'open-mixtral-8x7b', 'finish_reason': 'stop'}, id='run-8137843e-8350-46db-ae55-952af3d9413d-0', usage_metadata={'input_tokens': 14, 'output_tokens': 58, 'total_tokens': 72})"
      ]
     },
     "execution_count": 2,
     "metadata": {},
     "output_type": "execute_result"
    }
   ],
   "source": [
    "model.invoke(\"Hello, how are you?\")"
   ]
  },
  {
   "cell_type": "code",
   "execution_count": 27,
   "metadata": {},
   "outputs": [],
   "source": [
    "from utils.text_loader import load_and_process_text\n",
    "a = load_and_process_text()\n"
   ]
  },
  {
   "cell_type": "code",
   "execution_count": 28,
   "metadata": {},
   "outputs": [
    {
     "data": {
      "text/plain": [
       "[Document(id='5f3789a7-b5ac-4b47-af85-fc25bfa5f708', metadata={'source': 'resume.txt'}, page_content='Kunal Bajaj\\x83437-269-7678 #kunalbajaj20220@gmail.com ïlinkedin.com/in/kunal-bajaj1 §github.com/bajajku\\nlbajajku-portfolio/\\n\\nEducation\\nSheridan College September 2022 – December 2026\\nHonours Bachelor of Computer Science (Mobile Computing) Oakville, ON\\n\\n•GPA: 3.71\\n•Courses: Software Engineering, Software Design, Web Application Design and Implementation, Operating\\nSystems, Computer Architecture, Data Structures and Algorithms, Advanced Mobile Application Development\\n\\nExperience\\nSoftware Developer January 2024 – Present\\nKorah Limited Remote\\n•Continuing development of FindMyBed Project, focusing on feature enhancement, performance optimization,\\nand user experience improvements.\\n\\nAI and Process Optimization Analyst September 2024 – December 2024\\nKorah Limited Oakville, ON\\n•Developed and implemented State Machine-based AI algorithms in Python, processing 700+ yearly NICU\\nbed predictions with 90% accuracy, reducing decision time by 35%.\\n•Built responsive frontend simulation using Python’s Pygame library to visualize patient transfers, improving\\noperational tracking by 40%.\\n•Facilitated 15+ requirement gathering sessions with healthcare professionals, achieving 95% stakeholder\\nsatisfaction and implementing 25+ critical system improvements based on operational feedback.'),\n",
       " Document(id='fc4b1ffc-ce05-44b1-b8d8-2ca3a0ddd9a4', metadata={'source': 'resume.txt'}, page_content='Artificial Intelligence Research Assistant October 2023 – September 2024\\nSheridan Centre for Applied AI (CAAI) Oakville, ON\\n•Implemented advanced NLP algorithms using Transformers and LangChain, developing a chatbot that\\nprocessed 1000+ monthly queries with 90% accuracy and reduced response time by 45%.\\n•Engineered a Retrieval-Augmented Generation (RAG) system using FastAPI backend, handling 150+\\nconcurrent requests and improving query resolution speed by 80% while maintaining 99.9% uptime.\\n•Engineered dynamic and context-aware prompts, leveraging few-shot learning, and chain-of-thought\\nprompting to improve response relevance and coherence by 20%, eliminating the need for model retraining.\\n\\nSoftware Developer May 2024 – August 2024\\nSheridan Centre for Applied AI (CAAI) Oakville, ON\\n•Engineered a communication layer for wearable sensors using Arduino IDE and C++ for ESP32 hardware\\nand Node.js for backend integration, improving data transfer speed by 20%.\\n•Designed and optimized a MongoDB database hosted on AWS Cloud for real-time analytics, increasing query\\nefficiency by 25%.\\n•Developed a responsive ReactJS frontend dashboard, processing real-time data from 50+ sensors\\nsimultaneously with 99% uptime and reducing system monitoring time by 30%.'),\n",
       " Document(id='ebff4b28-fa4c-40c8-8d73-b045e0829a81', metadata={'source': 'resume.txt'}, page_content='Groovify - iOS App |GitHub Swift |SwiftUI |Firebase |LLM\\n•Built an iOS music recommendation app using Swift and SwiftUI, integrating Spotify’s API to analyze user\\nlistening patterns and generate mood-based recommendations with 85% accuracy.\\n•Implemented Firebase authentication for secure user login and efficient local storage using CoreData for song\\nmetadata, reducing API calls by 30%.\\n•Developed an AI-powered recommendation engine using open-source emotion detection model from\\nHuggingFace, maintaining 95% recommendation accuracy.\\n\\nEfootball Regression Project |GitHub Python |Tensorflow |Sci-Kit Learn |Pandas\\n•Engineered Python web scraping scripts using BeautifulSoup and Selenium to extract 1000+ player\\nstatistics across 15+ performance metrics, achieving 98% data collection accuracy.\\n•Implemented data preprocessing pipeline using pandas and scikit-learn, cleaning 20+ features and reducing\\nmissing values from 15% to <1%, resulting in a high-quality dataset for model training.\\n•Developed a linear regression model using TensorFlow to predict player ratings for different positions, with\\n90% accuracy, reducing prediction error by 25% through feature selection and model optimization.'),\n",
       " Document(id='36b59a58-e987-42ab-85c1-aa7b47823f90', metadata={'source': 'resume.txt'}, page_content='Technical Skills\\nLanguages: C#, JavaScript (ES6), Python, SQL, C/C++, Swift\\nFrameworks and Libraries: ASP.NET, ReactJS (Redux, Jest), Node.js, ExpressJS, FastAPI, Docker, SwiftUI\\nDeveloper Tools: Git (Command Line, GitHub/GitLab workflow), Postman, AWS (EC2, S3), Firebase, CI/CD\\nDatabase and Caching: MongoDB, SQL Server, PostgreSQL, Milvus, Redis')]"
      ]
     },
     "execution_count": 28,
     "metadata": {},
     "output_type": "execute_result"
    }
   ],
   "source": [
    "a.get_relevant_documents(\"Kunal's experience\")\n"
   ]
  }
 ],
 "metadata": {
  "kernelspec": {
   "display_name": "venv",
   "language": "python",
   "name": "python3"
  },
  "language_info": {
   "codemirror_mode": {
    "name": "ipython",
    "version": 3
   },
   "file_extension": ".py",
   "mimetype": "text/x-python",
   "name": "python",
   "nbconvert_exporter": "python",
   "pygments_lexer": "ipython3",
   "version": "3.12.8"
  }
 },
 "nbformat": 4,
 "nbformat_minor": 2
}
